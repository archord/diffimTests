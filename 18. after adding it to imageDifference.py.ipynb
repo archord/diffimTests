{
 "cells": [
  {
   "cell_type": "markdown",
   "metadata": {},
   "source": [
    "Input images for this are from the diffIm_demo DECAM data that Yusra gave me. \n",
    "First, I ran `imageDifference.py` with `doZOGYCorrection = False`. Then copied the diffim to the current directory:\n",
    "```\n",
    "cp decamDirTest/deepDiff/v289820/diffexp-11.fits .\n",
    "```\n",
    "Then I ran it with `doZOGYCorrection = True`, and then copied the diffim:\n",
    "```\n",
    "cp decamDirTest/deepDiff/v289820/diffexp-11.fits ./diffexp-11-ALZC.fits\n",
    "```"
   ]
  },
  {
   "cell_type": "code",
   "execution_count": 1,
   "metadata": {
    "collapsed": false
   },
   "outputs": [],
   "source": [
    "import numpy as np\n",
    "%matplotlib inline\n",
    "from matplotlib import pyplot as plt\n",
    "\n",
    "#  LSST imports:\n",
    "import lsst.afw.image as afwImage\n",
    "from lsst.afw.table import (SourceTable, SourceCatalog)\n",
    "from lsst.meas.base import SingleFrameMeasurementConfig\n",
    "from lsst.meas.algorithms import (SourceDetectionConfig, SourceDetectionTask)\n",
    "\n",
    "import diffimTests as dit"
   ]
  },
  {
   "cell_type": "code",
   "execution_count": 2,
   "metadata": {
    "collapsed": false
   },
   "outputs": [],
   "source": [
    "im1 = afwImage.ExposureF('diffexp-11.fits')\n",
    "im2 = afwImage.ExposureF('diffexp-11-ALZC.fits') "
   ]
  },
  {
   "cell_type": "code",
   "execution_count": 3,
   "metadata": {
    "collapsed": false
   },
   "outputs": [
    {
     "name": "stderr",
     "output_type": "stream",
     "text": [
      "/Users/dreiss/lsstsw/miniconda/lib/python2.7/site-packages/scipy/stats/stats.py:1152: RuntimeWarning: overflow encountered in multiply\n",
      "  s *= a_zero_mean\n",
      "/Users/dreiss/lsstsw/miniconda/lib/python2.7/site-packages/scipy/stats/stats.py:1150: RuntimeWarning: overflow encountered in square\n",
      "  s = s**2\n"
     ]
    },
    {
     "name": "stdout",
     "output_type": "stream",
     "text": [
      "DescribeResult(nobs=8116056, minmax=(54.318272, 1.0715597e+14), mean=4.149692e+11, variance=4.0385936e+25, skewness=inf, kurtosis=inf)\n",
      "DescribeResult(nobs=8116056, minmax=(54.318272, 1.0715597e+14), mean=4.149692e+11, variance=4.0385936e+25, skewness=inf, kurtosis=inf)\n",
      "(66.898842, 2.5332913)\n",
      "(66.898842, 2.5332913)\n",
      "8.17917 8.17917\n"
     ]
    }
   ],
   "source": [
    "import scipy.stats\n",
    "sig1 = im1.getMaskedImage().getVariance().getArray()\n",
    "sig1 = sig1[~(np.isnan(sig1)|np.isinf(sig1))]\n",
    "print scipy.stats.describe(sig1, None)\n",
    "sig2 = im2.getMaskedImage().getVariance().getArray()\n",
    "sig2 = sig2[~(np.isnan(sig2)|np.isinf(sig2))]\n",
    "print scipy.stats.describe(sig2, None)\n",
    "print dit.computeClippedImageStats(sig1) #, dit.computeClippedImageStats(im1.getMaskedImage().getImage().getArray())\n",
    "print dit.computeClippedImageStats(sig2) #, dit.computeClippedImageStats(im2.getMaskedImage().getImage().getArray())\n",
    "sig1squared, _ = dit.computeClippedImageStats(sig1)\n",
    "sig2squared, _ = dit.computeClippedImageStats(sig2)\n",
    "print np.sqrt(sig1squared), np.sqrt(sig2squared)"
   ]
  },
  {
   "cell_type": "code",
   "execution_count": 4,
   "metadata": {
    "collapsed": false
   },
   "outputs": [
    {
     "name": "stdout",
     "output_type": "stream",
     "text": [
      "UNCORRECTED: (-0.48271665, 8.6349859)\n",
      "CORRECTED:   (-0.4712548, 11.729684)\n",
      "EXPECTED:    11.5671\n",
      "8090901 7945056\n",
      "DescribeResult(nobs=7945056, minmax=(-35.644913, 34.703217), mean=-0.47209612, variance=77.32589, skewness=0.02493409812450409, kurtosis=0.05192774072245632)\n",
      "DescribeResult(nobs=7945056, minmax=(-48.227772, 47.330208), mean=-0.45180461, variance=142.71512, skewness=0.0286716278642416, kurtosis=0.052235820078391004)\n"
     ]
    },
    {
     "data": {
      "text/plain": [
       "<matplotlib.axes._subplots.AxesSubplot at 0x12e51ce90>"
      ]
     },
     "execution_count": 4,
     "metadata": {},
     "output_type": "execute_result"
    },
    {
     "data": {
      "image/png": "[encoded data removed]",
      "text/plain": [
       "<matplotlib.figure.Figure at 0x12e51c7d0>"
      ]
     },
     "metadata": {},
     "output_type": "display_data"
    }
   ],
   "source": [
    "im1a = im1.getMaskedImage().getImage().getArray()\n",
    "im1a = im1a[~(np.isnan(im1a)|np.isinf(im1a))]\n",
    "im2a = im2.getMaskedImage().getImage().getArray()\n",
    "im2a = im2a[~(np.isnan(im2a)|np.isinf(im2a))]\n",
    "\n",
    "im1a = im1a[im1a != 0.]\n",
    "im2a = im2a[im2a != 0.]\n",
    "im1a, _, _ = scipy.stats.sigmaclip(im1a)\n",
    "im2a, _, _ = scipy.stats.sigmaclip(im2a)\n",
    "print 'UNCORRECTED:', dit.computeClippedImageStats(im1a)\n",
    "print 'CORRECTED:  ', dit.computeClippedImageStats(im2a)\n",
    "print 'EXPECTED:   ', np.sqrt(sig1squared + sig2squared)\n",
    "print len(im1a), len(im2a)\n",
    "im1a = im1a[:len(im2a)]\n",
    "print scipy.stats.describe(im1a)\n",
    "print scipy.stats.describe(im2a)\n",
    "\n",
    "import pandas as pd\n",
    "df = pd.DataFrame({'corr': im2a, 'orig': im1a})\n",
    "df.plot.hist(alpha=0.5, bins=200)"
   ]
  },
  {
   "cell_type": "code",
   "execution_count": 5,
   "metadata": {
    "collapsed": false
   },
   "outputs": [
    {
     "name": "stdout",
     "output_type": "stream",
     "text": [
      "0.349174543978\n",
      "0.0929110407091\n"
     ]
    },
    {
     "data": {
      "text/plain": [
       "<mpl_toolkits.axes_grid1.axes_grid.ImageGrid at 0x11e512e90>"
      ]
     },
     "execution_count": 5,
     "metadata": {},
     "output_type": "execute_result"
    },
    {
     "data": {
      "image/png": "[encoded data removed]",
      "text/plain": [
       "<matplotlib.figure.Figure at 0x1062924d0>"
      ]
     },
     "metadata": {},
     "output_type": "display_data"
    }
   ],
   "source": [
    "im1a = im1.getMaskedImage().getImage().getArray()\n",
    "im1a[np.isnan(im1a)|np.isinf(im1a)] = 0.\n",
    "_, low, upp = scipy.stats.sigmaclip(im1a)\n",
    "im1a[(im1a < low)|(im1a > upp)] = 0.\n",
    "cov1 = dit.computePixelCovariance(im1a)\n",
    "\n",
    "im2a = im2.getMaskedImage().getImage().getArray()\n",
    "im2a[np.isnan(im2a)|np.isinf(im2a)] = 0.\n",
    "_, low, upp = scipy.stats.sigmaclip(im2a)\n",
    "im2a[(im2a < low)|(im2a > upp)] = 0.\n",
    "cov2 = dit.computePixelCovariance(im2a)\n",
    "\n",
    "dit.plotImageGrid((cov1, cov2), imScale=4., clim=(0, 0.5), cmap=None)"
   ]
  },
  {
   "cell_type": "code",
   "execution_count": 11,
   "metadata": {
    "collapsed": false,
    "scrolled": true
   },
   "outputs": [
    {
     "name": "stdout",
     "output_type": "stream",
     "text": [
      "True\n",
      "1.99417145453 2.00366924365\n",
      "1.00014561851 1.0\n",
      "(14, 14) (14, 14)\n"
     ]
    },
    {
     "data": {
      "text/plain": [
       "DescribeResult(nobs=841, minmax=(-0.0061622036578675501, 0.0073840799593017543), mean=1.7314923478984235e-07, variance=7.6827700685764811e-07, skewness=1.6781637279105364, kurtosis=28.60718259873452)"
      ]
     },
     "execution_count": 11,
     "metadata": {},
     "output_type": "execute_result"
    },
    {
     "data": {
      "image/png": "[encoded data removed]",
      "text/plain": [
       "<matplotlib.figure.Figure at 0x112d9b190>"
      ]
     },
     "metadata": {},
     "output_type": "display_data"
    }
   ],
   "source": [
    "print im2.hasPsf()\n",
    "im1_psf = im1.getPsf().computeImage().getArray()\n",
    "im2_psf = im2.getPsf().computeImage().getArray()\n",
    "print im1.getPsf().computeShape().getDeterminantRadius(), im2.getPsf().computeShape().getDeterminantRadius()\n",
    "print im1_psf.sum(), im2_psf.sum()\n",
    "print np.unravel_index(im1_psf.argmax(), im1_psf.shape), np.unravel_index(im2_psf.argmax(), im2_psf.shape)\n",
    "dit.plotImageGrid((im1.getPsf().computeImage().getArray(), im2_psf, \n",
    "                   im1.getPsf().computeImage().getArray() - im2_psf), imScale=2., clim=(-0.01,0.01))\n",
    "scipy.stats.describe(im1.getPsf().computeImage().getArray() - im2_psf, None)"
   ]
  },
  {
   "cell_type": "code",
   "execution_count": null,
   "metadata": {
    "collapsed": true
   },
   "outputs": [],
   "source": []
  }
 ],
 "metadata": {
  "kernelspec": {
   "display_name": "Python 2",
   "language": "python",
   "name": "python2"
  },
  "language_info": {
   "codemirror_mode": {
    "name": "ipython",
    "version": 2
   },
   "file_extension": ".py",
   "mimetype": "text/x-python",
   "name": "python",
   "nbconvert_exporter": "python",
   "pygments_lexer": "ipython2",
   "version": "2.7.11"
  }
 },
 "nbformat": 4,
 "nbformat_minor": 0
}
