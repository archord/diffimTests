{
 "cells": [
  {
   "cell_type": "markdown",
   "metadata": {
    "collapsed": true
   },
   "source": [
    "## Test PSF measurement in the stack\n",
    "\n",
    "and test ZOGY using measured PSFs"
   ]
  },
  {
   "cell_type": "code",
   "execution_count": 1,
   "metadata": {
    "collapsed": false
   },
   "outputs": [
    {
     "name": "stdout",
     "output_type": "stream",
     "text": [
      "3\n"
     ]
    }
   ],
   "source": [
    "import numpy as np\n",
    "%matplotlib inline\n",
    "import matplotlib.pyplot as plt\n",
    "import matplotlib\n",
    "matplotlib.style.use('ggplot')\n",
    "import pandas as pd\n",
    "import multiprocessing\n",
    "from joblib import Parallel, delayed\n",
    "num_cores = multiprocessing.cpu_count()\n",
    "if num_cores == 32:\n",
    "    num_cores = 24  # lsst-dev - don't use all the cores, man.\n",
    "elif num_cores == 8:\n",
    "    num_cores = 3\n",
    "elif num_cores == 4:\n",
    "    num_cores = 2\n",
    "print num_cores\n",
    "\n",
    "import seaborn as sns\n",
    "sns.set(style=\"whitegrid\", palette=\"pastel\", color_codes=True)\n",
    "\n",
    "class sizeme():\n",
    "    \"\"\" Class to change html fontsize of object's representation\"\"\"\n",
    "    def __init__(self,ob, size=50, height=120):\n",
    "        self.ob = ob\n",
    "        self.size = size\n",
    "        self.height = height\n",
    "    def _repr_html_(self):\n",
    "        repl_tuple = (self.size, self.height, self.ob._repr_html_())\n",
    "        return u'<span style=\"font-size:{0}%; line-height:{1}%\">{2}</span>'.format(*repl_tuple)\n",
    "\n",
    "pd.options.display.max_columns = 9999\n",
    "pd.set_option('display.width', 9999)\n",
    "\n",
    "import warnings\n",
    "warnings.filterwarnings('ignore')"
   ]
  },
  {
   "cell_type": "markdown",
   "metadata": {},
   "source": [
    "Make a couple of test images to test the PSF measurement on..."
   ]
  },
  {
   "cell_type": "code",
   "execution_count": 5,
   "metadata": {
    "collapsed": false
   },
   "outputs": [],
   "source": [
    "import diffimTests as dit\n",
    "reload(dit)\n",
    "\n",
    "# Let's try w same parameters as ZOGY paper.\n",
    "sky = 300.\n",
    "\n",
    "testObj = dit.DiffimTest(imSize=(512,512), sky=sky, psf1=[1.6,1.6], psf2=[1.8,2.2],\n",
    "                         offset=[0,0], psf_yvary_factor=0., \n",
    "                         varFlux2=[1500., 1600., 1800., 2000., 2200., 2400., 2600., 2800.],\n",
    "                         theta1=0., theta2=-45., im2background=0., n_sources=50, sourceFluxRange=(500,30000), \n",
    "                         seed=66, psfSize=13)"
   ]
  },
  {
   "cell_type": "code",
   "execution_count": 6,
   "metadata": {
    "collapsed": false
   },
   "outputs": [],
   "source": [
    "reload(dit)\n",
    "res = dit.measurePsf(testObj.im1.asAfwExposure(), measurePsfAlg='psfex')\n",
    "testObj.im1.psf = res.psf.computeImage().getArray()\n",
    "\n",
    "res = dit.measurePsf(testObj.im2.asAfwExposure(), measurePsfAlg='psfex')\n",
    "testObj.im2.psf = res.psf.computeImage().getArray()"
   ]
  },
  {
   "cell_type": "code",
   "execution_count": 7,
   "metadata": {
    "collapsed": false
   },
   "outputs": [
    {
     "data": {
      "text/plain": [
       "{'ALstack': {'FN': 1, 'FP': 1, 'TP': 7},\n",
       " 'ALstack_noDecorr': {'FN': 0, 'FP': 0, 'TP': 8},\n",
       " 'SZOGY': {'FN': 1, 'FP': 19, 'TP': 7},\n",
       " 'ZOGY': {'FN': 0, 'FP': 35, 'TP': 8}}"
      ]
     },
     "execution_count": 7,
     "metadata": {},
     "output_type": "execute_result"
    }
   ],
   "source": [
    "testObj.runTest()"
   ]
  },
  {
   "cell_type": "markdown",
   "metadata": {},
   "source": [
    "See how it works on a crowded field."
   ]
  },
  {
   "cell_type": "code",
   "execution_count": 9,
   "metadata": {
    "collapsed": false
   },
   "outputs": [
    {
     "data": {
      "text/plain": [
       "{'ALstack': {'FN': 4, 'FP': 0, 'TP': 3},\n",
       " 'ALstack_noDecorr': {'FN': 4, 'FP': 0, 'TP': 3},\n",
       " 'SZOGY': {'FN': 5, 'FP': 70, 'TP': 2},\n",
       " 'ZOGY': {'FN': 6, 'FP': 264, 'TP': 2}}"
      ]
     },
     "execution_count": 9,
     "metadata": {},
     "output_type": "execute_result"
    }
   ],
   "source": [
    "reload(dit)\n",
    "testObj2 = dit.DiffimTest(imSize=(512,512), sky=sky, psf1=[1.6,1.6], psf2=[1.8,2.2],\n",
    "                         offset=[0,0], psf_yvary_factor=0., \n",
    "                         varFlux2=[1500., 1600., 1800., 2000., 2200., 2400., 2600., 2800.],\n",
    "                         theta1=0., theta2=-45., im2background=0., n_sources=500, sourceFluxRange=(500,30000), \n",
    "                         seed=66, psfSize=13)\n",
    "\n",
    "res = dit.measurePsf(testObj2.im1.asAfwExposure(), measurePsfAlg='psfex')\n",
    "testObj2.im1.psf = res.psf.computeImage().getArray()\n",
    "\n",
    "res = dit.measurePsf(testObj2.im2.asAfwExposure(), measurePsfAlg='psfex')\n",
    "testObj2.im2.psf = res.psf.computeImage().getArray()\n",
    "\n",
    "testObj2.runTest()"
   ]
  },
  {
   "cell_type": "code",
   "execution_count": null,
   "metadata": {
    "collapsed": true
   },
   "outputs": [],
   "source": []
  }
 ],
 "metadata": {
  "anaconda-cloud": {},
  "kernelspec": {
   "display_name": "Python 2",
   "language": "python",
   "name": "python2"
  },
  "language_info": {
   "codemirror_mode": {
    "name": "ipython",
    "version": 2
   },
   "file_extension": ".py",
   "mimetype": "text/x-python",
   "name": "python",
   "nbconvert_exporter": "python",
   "pygments_lexer": "ipython2",
   "version": "2.7.12"
  }
 },
 "nbformat": 4,
 "nbformat_minor": 0
}
