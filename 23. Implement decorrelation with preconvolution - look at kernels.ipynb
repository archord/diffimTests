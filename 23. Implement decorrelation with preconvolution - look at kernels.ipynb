{
 "cells": [
  {
   "cell_type": "code",
   "execution_count": 1,
   "metadata": {
    "collapsed": false
   },
   "outputs": [],
   "source": [
    "import lsst.pex.config as pexConfig\n",
    "import lsst.pipe.base as pipeBase\n",
    "import lsst.daf.base as dafBase\n",
    "import lsst.afw.geom as afwGeom\n",
    "import lsst.afw.math as afwMath\n",
    "import lsst.afw.table as afwTable\n",
    "import lsst.meas.astrom as measAstrom\n",
    "import lsst.afw.image as afwImage\n",
    "\n",
    "%matplotlib inline\n",
    "from matplotlib import pyplot as plt\n",
    "import matplotlib\n",
    "matplotlib.style.use('ggplot')\n",
    "\n",
    "import numpy as np\n",
    "import diffimTests as dit\n",
    "reload(dit);"
   ]
  },
  {
   "cell_type": "code",
   "execution_count": 2,
   "metadata": {
    "collapsed": false
   },
   "outputs": [],
   "source": [
    "sciImg = afwImage.ExposureF('calexpDir_b1631/0289820/calexp/calexp-0289820_11.fits')\n",
    "preConvPsf = sciImg.getPsf()"
   ]
  },
  {
   "cell_type": "code",
   "execution_count": 5,
   "metadata": {
    "collapsed": false
   },
   "outputs": [
    {
     "name": "stdout",
     "output_type": "stream",
     "text": [
      "1.0\n"
     ]
    },
    {
     "data": {
      "text/plain": [
       "<mpl_toolkits.axes_grid1.axes_grid.ImageGrid at 0x114527950>"
      ]
     },
     "execution_count": 5,
     "metadata": {},
     "output_type": "execute_result"
    },
    {
     "data": {
      "image/png": "[encoded data removed]",
      "text/plain": [
       "<matplotlib.figure.Figure at 0x114527350>"
      ]
     },
     "metadata": {},
     "output_type": "display_data"
    }
   ],
   "source": [
    "tmp = preConvPsf.computeKernelImage()\n",
    "print tmp.getArray().sum()\n",
    "dit.plotImageGrid((tmp,))"
   ]
  },
  {
   "cell_type": "code",
   "execution_count": 40,
   "metadata": {
    "collapsed": false
   },
   "outputs": [
    {
     "name": "stdout",
     "output_type": "stream",
     "text": [
      "1.0\n",
      "(25, 25)\n"
     ]
    },
    {
     "data": {
      "text/plain": [
       "<mpl_toolkits.axes_grid1.axes_grid.ImageGrid at 0x1233b18d0>"
      ]
     },
     "execution_count": 40,
     "metadata": {},
     "output_type": "execute_result"
    },
    {
     "data": {
      "image/png": "[encoded data removed]",
      "text/plain": [
       "<matplotlib.figure.Figure at 0x122b11810>"
      ]
     },
     "metadata": {},
     "output_type": "display_data"
    }
   ],
   "source": [
    "import cPickle\n",
    "import gzip\n",
    "psfMatchingKernel, preConvKernel = cPickle.load(gzip.GzipFile('spatialKernel_deCor.p.gz','rb'))\n",
    "\n",
    "kimg = afwImage.ImageD(psfMatchingKernel.getDimensions())\n",
    "bbox = sciImg.getBBox()\n",
    "xcen = (bbox.getBeginX() + bbox.getEndX()) / 2.\n",
    "ycen = (bbox.getBeginY() + bbox.getEndY()) / 2.\n",
    "psfMatchingKernel.computeImage(kimg, True, xcen, ycen)\n",
    "\n",
    "kappa = kimg.getArray()\n",
    "print kappa.sum() #, preConvKernel.sum()\n",
    "print kappa.shape #, preConvKernel.shape\n",
    "dit.plotImageGrid((kappa,), clim=(0., 0.05)) # preConvKernel))"
   ]
  },
  {
   "cell_type": "code",
   "execution_count": 41,
   "metadata": {
    "collapsed": false
   },
   "outputs": [
    {
     "data": {
      "text/plain": [
       "<mpl_toolkits.axes_grid1.axes_grid.ImageGrid at 0x1248a9910>"
      ]
     },
     "execution_count": 41,
     "metadata": {},
     "output_type": "execute_result"
    },
    {
     "data": {
      "image/png": "[encoded data removed]",
      "text/plain": [
       "<matplotlib.figure.Figure at 0x122bda850>"
      ]
     },
     "metadata": {},
     "output_type": "display_data"
    }
   ],
   "source": [
    "from lsst.ip.diffim import ImagePsfMatchTask, DipoleAnalysis, \\\n",
    "    SourceFlagChecker, KernelCandidateF, cast_KernelCandidateF, makeKernelBasisList, \\\n",
    "    KernelCandidateQa, DiaCatalogSourceSelectorTask, DiaCatalogSourceSelectorConfig, \\\n",
    "    GetCoaddAsTemplateTask, GetCalexpAsTemplateTask, DipoleFitTask, DecorrelateALKernelTask\n",
    "dt = DecorrelateALKernelTask()\n",
    "svar = 59.994526\n",
    "tvar = 62.777829\n",
    "kappa = DecorrelateALKernelTask._fixOddKernel(kappa)\n",
    "#pcM = DecorrelateALKernelTask._fixOddKernel(preConvKernel)\n",
    "dit.plotImageGrid((kappa,), clim=(0., 0.05)) # pcM))"
   ]
  },
  {
   "cell_type": "code",
   "execution_count": 42,
   "metadata": {
    "collapsed": false
   },
   "outputs": [
    {
     "data": {
      "text/plain": [
       "<mpl_toolkits.axes_grid1.axes_grid.ImageGrid at 0x124888550>"
      ]
     },
     "execution_count": 42,
     "metadata": {},
     "output_type": "execute_result"
    },
    {
     "data": {
      "image/png": "[encoded data removed]",
      "text/plain": [
       "<matplotlib.figure.Figure at 0x122cdf250>"
      ]
     },
     "metadata": {},
     "output_type": "display_data"
    }
   ],
   "source": [
    "kappa = DecorrelateALKernelTask._matchKernelDims(kappa, pcM, keepMean=True)\n",
    "dit.plotImageGrid((kappa,), clim=(0., 0.05)) # preConvKernel))"
   ]
  },
  {
   "cell_type": "code",
   "execution_count": 45,
   "metadata": {
    "collapsed": false
   },
   "outputs": [
    {
     "name": "stdout",
     "output_type": "stream",
     "text": [
      "0.879282060972\n"
     ]
    },
    {
     "data": {
      "text/plain": [
       "<mpl_toolkits.axes_grid1.axes_grid.ImageGrid at 0x124ccd690>"
      ]
     },
     "execution_count": 45,
     "metadata": {},
     "output_type": "execute_result"
    },
    {
     "data": {
      "image/png": "[encoded data removed]",
      "text/plain": [
       "<matplotlib.figure.Figure at 0x1234dba10>"
      ]
     },
     "metadata": {},
     "output_type": "display_data"
    }
   ],
   "source": [
    "import scipy.fftpack\n",
    "\n",
    "#pcMft = scipy.fftpack.fft2(pcM)\n",
    "pcMft = 1.0\n",
    "kft = scipy.fftpack.fft2(kappa)\n",
    "kft = np.sqrt((svar + tvar) / (svar * pcMft**2. + tvar * kft**2.))\n",
    "pck = scipy.fftpack.ifft2(kft)\n",
    "pck = scipy.fftpack.ifftshift(pck.real)\n",
    "fkernel = DecorrelateALKernelTask._fixEvenKernel(pck)\n",
    "print fkernel.sum()\n",
    "dit.plotImageGrid((fkernel,), clim=(-0.05, 0.05))"
   ]
  },
  {
   "cell_type": "code",
   "execution_count": 46,
   "metadata": {
    "collapsed": false
   },
   "outputs": [
    {
     "name": "stdout",
     "output_type": "stream",
     "text": [
      "0.855406615355\n"
     ]
    },
    {
     "data": {
      "text/plain": [
       "<mpl_toolkits.axes_grid1.axes_grid.ImageGrid at 0x1258258d0>"
      ]
     },
     "execution_count": 46,
     "metadata": {},
     "output_type": "execute_result"
    },
    {
     "data": {
      "image/png": "[encoded data removed]",
      "text/plain": [
       "<matplotlib.figure.Figure at 0x125932350>"
      ]
     },
     "metadata": {},
     "output_type": "display_data"
    }
   ],
   "source": [
    "pcMft = scipy.fftpack.fft2(pcM)\n",
    "kft = scipy.fftpack.fft2(kappa)\n",
    "kft = np.sqrt((svar + tvar) / (svar * pcMft**2. + tvar * kft**2.))\n",
    "pck = scipy.fftpack.ifft2(kft)\n",
    "pck = scipy.fftpack.ifftshift(pck.real)\n",
    "fkernel = DecorrelateALKernelTask._fixEvenKernel(pck)\n",
    "print fkernel.sum()\n",
    "dit.plotImageGrid((fkernel,), clim=(-0.05, 0.05))"
   ]
  },
  {
   "cell_type": "code",
   "execution_count": 26,
   "metadata": {
    "collapsed": false
   },
   "outputs": [
    {
     "name": "stdout",
     "output_type": "stream",
     "text": [
      "6.64102655962\n",
      "5.58263265023\n"
     ]
    }
   ],
   "source": [
    "print 4.69591491435*np.sqrt(2.)\n",
    "print 3.94751740385*np.sqrt(2.)"
   ]
  },
  {
   "cell_type": "code",
   "execution_count": 30,
   "metadata": {
    "collapsed": false
   },
   "outputs": [],
   "source": [
    "(spatialKernel, preConvKernel) = cPickle.load(gzip.GzipFile('spatialKernel.p.gz', 'rb'))\n",
    "preConvKernel"
   ]
  },
  {
   "cell_type": "code",
   "execution_count": 54,
   "metadata": {
    "collapsed": false
   },
   "outputs": [
    {
     "name": "stdout",
     "output_type": "stream",
     "text": [
      "1.0 1.0\n",
      "(25, 25) (27, 27)\n"
     ]
    },
    {
     "data": {
      "text/plain": [
       "<mpl_toolkits.axes_grid1.axes_grid.ImageGrid at 0x1265a7210>"
      ]
     },
     "execution_count": 54,
     "metadata": {},
     "output_type": "execute_result"
    },
    {
     "data": {
      "image/png": "[encoded data removed]",
      "text/plain": [
       "<matplotlib.figure.Figure at 0x1266e1e50>"
      ]
     },
     "metadata": {},
     "output_type": "display_data"
    }
   ],
   "source": [
    "import cPickle\n",
    "import gzip\n",
    "psfMatchingKernel2, preConvKernel = cPickle.load(gzip.GzipFile('spatialKernel_preConvDeCor.p.gz','rb'))\n",
    "\n",
    "kimg = afwImage.ImageD(psfMatchingKernel.getDimensions())\n",
    "bbox = sciImg.getBBox()\n",
    "xcen = (bbox.getBeginX() + bbox.getEndX()) / 2.\n",
    "ycen = (bbox.getBeginY() + bbox.getEndY()) / 2.\n",
    "psfMatchingKernel.computeImage(kimg, True, xcen, ycen)\n",
    "\n",
    "kappa = kimg.getArray()\n",
    "print kappa.sum(), preConvKernel.sum()\n",
    "print kappa.shape, preConvKernel.shape\n",
    "dit.plotImageGrid((kappa, preConvKernel), clim=(0., 0.05)) # preConvKernel))"
   ]
  },
  {
   "cell_type": "code",
   "execution_count": 102,
   "metadata": {
    "collapsed": false
   },
   "outputs": [
    {
     "data": {
      "text/plain": [
       "<mpl_toolkits.axes_grid1.axes_grid.ImageGrid at 0x13916eb10>"
      ]
     },
     "execution_count": 102,
     "metadata": {},
     "output_type": "execute_result"
    },
    {
     "data": {
      "image/png": "[encoded data removed]",
      "text/plain": [
       "<matplotlib.figure.Figure at 0x1384b3190>"
      ]
     },
     "metadata": {},
     "output_type": "display_data"
    }
   ],
   "source": [
    "dt = DecorrelateALKernelTask()\n",
    "svar = 59.994526\n",
    "tvar = 62.777829\n",
    "kappa = DecorrelateALKernelTask._fixOddKernel(kappa)\n",
    "#pcM = DecorrelateALKernelTask._fixOddKernel(preConvKernel)\n",
    "\n",
    "kappa = DecorrelateALKernelTask._matchKernelDims(kappa, pcM, keepMean=True)\n",
    "dit.plotImageGrid((kappa, pcM), clim=(0., 0.05)) # preConvKernel))"
   ]
  },
  {
   "cell_type": "code",
   "execution_count": 103,
   "metadata": {
    "collapsed": false
   },
   "outputs": [
    {
     "name": "stdout",
     "output_type": "stream",
     "text": [
      "(28, 28) (28, 28)\n"
     ]
    },
    {
     "data": {
      "text/plain": [
       "<mpl_toolkits.axes_grid1.axes_grid.ImageGrid at 0x1394e42d0>"
      ]
     },
     "execution_count": 103,
     "metadata": {},
     "output_type": "execute_result"
    },
    {
     "data": {
      "image/png": "[encoded data removed]",
      "text/plain": [
       "<matplotlib.figure.Figure at 0x13353b0d0>"
      ]
     },
     "metadata": {},
     "output_type": "display_data"
    }
   ],
   "source": [
    "pcMft = scipy.fftpack.fft2(pcM)\n",
    "pcMft = 1.0\n",
    "kft = scipy.fftpack.fft2(kappa)\n",
    "kft2 = np.sqrt((svar + tvar) / (svar * pcMft**2. + tvar * kft**2.))\n",
    "print kft.shape, kft2.shape # , pcMft.shape\n",
    "dit.plotImageGrid((kft.real**2., kft2.real))  # , pcMft.real"
   ]
  },
  {
   "cell_type": "code",
   "execution_count": 104,
   "metadata": {
    "collapsed": false
   },
   "outputs": [
    {
     "name": "stdout",
     "output_type": "stream",
     "text": [
      "0.879282060972\n"
     ]
    },
    {
     "data": {
      "text/plain": [
       "<mpl_toolkits.axes_grid1.axes_grid.ImageGrid at 0x139914f90>"
      ]
     },
     "execution_count": 104,
     "metadata": {},
     "output_type": "execute_result"
    },
    {
     "data": {
      "image/png": "[encoded data removed]",
      "text/plain": [
       "<matplotlib.figure.Figure at 0x134a4aed0>"
      ]
     },
     "metadata": {},
     "output_type": "display_data"
    }
   ],
   "source": [
    "pck = scipy.fftpack.ifft2(kft2)\n",
    "pck = scipy.fftpack.ifftshift(pck.real)\n",
    "fkernel = DecorrelateALKernelTask._fixEvenKernel(pck)\n",
    "print fkernel.sum()\n",
    "dit.plotImageGrid((pck, fkernel), clim=(-0.05, 0.05))"
   ]
  },
  {
   "cell_type": "code",
   "execution_count": 136,
   "metadata": {
    "collapsed": false
   },
   "outputs": [
    {
     "name": "stdout",
     "output_type": "stream",
     "text": [
      "(28, 28) (28, 28) (28, 28)\n"
     ]
    },
    {
     "data": {
      "text/plain": [
       "<mpl_toolkits.axes_grid1.axes_grid.ImageGrid at 0x149805a90>"
      ]
     },
     "execution_count": 136,
     "metadata": {},
     "output_type": "execute_result"
    },
    {
     "data": {
      "image/png": "[encoded data removed]",
      "text/plain": [
       "<matplotlib.figure.Figure at 0x1492aae90>"
      ]
     },
     "metadata": {},
     "output_type": "display_data"
    }
   ],
   "source": [
    "pcMft = scipy.fftpack.fft2(pcM)\n",
    "#pcMft = scipy.fftpack.fftshift(pcMft)\n",
    "kft = scipy.fftpack.fft2(kappa)\n",
    "#kft = scipy.fftpack.fftshift(kft)\n",
    "delta = 1e-2\n",
    "kft2 = np.sqrt((svar + tvar + delta) / (svar * pcMft**2. + tvar * kft**2. + delta))\n",
    "kft2a = scipy.fftpack.ifftshift(kft2)\n",
    "print kft.shape, kft2.shape, pcMft.shape\n",
    "dit.plotImageGrid((pcMft.real**2., kft.real**2., kft2.real, kft2a.real))"
   ]
  },
  {
   "cell_type": "code",
   "execution_count": 141,
   "metadata": {
    "collapsed": false
   },
   "outputs": [
    {
     "name": "stdout",
     "output_type": "stream",
     "text": [
      "0.855254943544 -8.6729478388 15.9511521686\n"
     ]
    },
    {
     "data": {
      "text/plain": [
       "<mpl_toolkits.axes_grid1.axes_grid.ImageGrid at 0x14b7e7f90>"
      ]
     },
     "execution_count": 141,
     "metadata": {},
     "output_type": "execute_result"
    },
    {
     "data": {
      "image/png": "[encoded data removed]",
      "text/plain": [
       "<matplotlib.figure.Figure at 0x14b71a410>"
      ]
     },
     "metadata": {},
     "output_type": "display_data"
    }
   ],
   "source": [
    "pck = scipy.fftpack.ifft2(kft2)\n",
    "pck = scipy.fftpack.ifftshift(pck).real\n",
    "fkernel = DecorrelateALKernelTask._fixEvenKernel(pck)\n",
    "print fkernel.sum(), fkernel.min(), fkernel.max()\n",
    "dit.plotImageGrid((pck, fkernel), clim=(-5, 5))"
   ]
  },
  {
   "cell_type": "code",
   "execution_count": null,
   "metadata": {
    "collapsed": true
   },
   "outputs": [],
   "source": []
  }
 ],
 "metadata": {
  "kernelspec": {
   "display_name": "Python 2",
   "language": "python",
   "name": "python2"
  },
  "language_info": {
   "codemirror_mode": {
    "name": "ipython",
    "version": 2
   },
   "file_extension": ".py",
   "mimetype": "text/x-python",
   "name": "python",
   "nbconvert_exporter": "python",
   "pygments_lexer": "ipython2",
   "version": "2.7.12"
  }
 },
 "nbformat": 4,
 "nbformat_minor": 0
}
