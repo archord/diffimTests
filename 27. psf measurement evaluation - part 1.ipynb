{
 "cells": [
  {
   "cell_type": "markdown",
   "metadata": {
    "collapsed": true
   },
   "source": [
    "## Test PSF measurement in the stack"
   ]
  },
  {
   "cell_type": "code",
   "execution_count": 1,
   "metadata": {
    "collapsed": false
   },
   "outputs": [
    {
     "name": "stdout",
     "output_type": "stream",
     "text": [
      "3\n"
     ]
    }
   ],
   "source": [
    "import numpy as np\n",
    "%matplotlib inline\n",
    "import matplotlib.pyplot as plt\n",
    "import matplotlib\n",
    "matplotlib.style.use('ggplot')\n",
    "import pandas as pd\n",
    "import multiprocessing\n",
    "from joblib import Parallel, delayed\n",
    "num_cores = multiprocessing.cpu_count()\n",
    "if num_cores == 32:\n",
    "    num_cores = 24  # lsst-dev - don't use all the cores, man.\n",
    "elif num_cores == 8:\n",
    "    num_cores = 3\n",
    "elif num_cores == 4:\n",
    "    num_cores = 2\n",
    "print num_cores\n",
    "\n",
    "import seaborn as sns\n",
    "sns.set(style=\"whitegrid\", palette=\"pastel\", color_codes=True)\n",
    "\n",
    "class sizeme():\n",
    "    \"\"\" Class to change html fontsize of object's representation\"\"\"\n",
    "    def __init__(self,ob, size=50, height=120):\n",
    "        self.ob = ob\n",
    "        self.size = size\n",
    "        self.height = height\n",
    "    def _repr_html_(self):\n",
    "        repl_tuple = (self.size, self.height, self.ob._repr_html_())\n",
    "        return u'<span style=\"font-size:{0}%; line-height:{1}%\">{2}</span>'.format(*repl_tuple)\n",
    "\n",
    "pd.options.display.max_columns = 9999\n",
    "pd.set_option('display.width', 9999)\n",
    "\n",
    "import warnings\n",
    "warnings.filterwarnings('ignore')"
   ]
  },
  {
   "cell_type": "markdown",
   "metadata": {},
   "source": [
    "Make a couple of test images to test the PSF measurement on..."
   ]
  },
  {
   "cell_type": "code",
   "execution_count": 54,
   "metadata": {
    "collapsed": false
   },
   "outputs": [
    {
     "name": "stdout",
     "output_type": "stream",
     "text": [
      "No module named utils\n",
      "LSSTSW has not been set up.\n"
     ]
    }
   ],
   "source": [
    "import diffimTests as dit\n",
    "reload(dit)\n",
    "\n",
    "# Let's try w same parameters as ZOGY paper.\n",
    "sky = 300.\n",
    "breakLimit = 1.050\n",
    "\n",
    "testObj = dit.DiffimTest(imSize=(512,512), sky=sky, psf1=[1.6,1.6], psf2=[1.8,2.2],\n",
    "                         offset=[0,0], psf_yvary_factor=0., \n",
    "                         #varSourceChange=[1500., 1600., 1800., 2000., 2200., 2400., 2600., 2800.],\n",
    "                         varFlux2=[1500., 1500., 1500.],\n",
    "                         theta1=0., theta2=-45., im2background=0., n_sources=50, sourceFluxRange=(500,30000), \n",
    "                         seed=66, psfSize=13)"
   ]
  },
  {
   "cell_type": "markdown",
   "metadata": {},
   "source": [
    "See `pipe_tasks/examples/measurePsfTask.py`."
   ]
  },
  {
   "cell_type": "code",
   "execution_count": 37,
   "metadata": {
    "collapsed": false
   },
   "outputs": [],
   "source": [
    "import lsst.pipe.tasks.measurePsf as measurePsf\n",
    "import lsst.afw.table as afwTable\n",
    "import lsst.ip.diffim as ipDiffim  # for detection - needs NaiveDipoleCentroid (registered by my routine)\n",
    "\n",
    "exp = testObj.im1.asAfwExposure()\n",
    "sources = dit.doDetection(exp, asDF=False)"
   ]
  },
  {
   "cell_type": "code",
   "execution_count": 39,
   "metadata": {
    "collapsed": false
   },
   "outputs": [],
   "source": [
    "config = measurePsf.MeasurePsfConfig()\n",
    "schema = afwTable.SourceTable.makeMinimalSchema()\n",
    "\n",
    "psfDeterminer = config.psfDeterminer.apply()\n",
    "psfDeterminer.config.sizeCellX = 128\n",
    "psfDeterminer.config.sizeCellY = 128\n",
    "psfDeterminer.config.spatialOrder = 1\n",
    "psfDeterminer.config.nEigenComponents = 3\n",
    "task = measurePsf.MeasurePsfTask(schema=schema, config=config)\n",
    "\n",
    "result = task.run(exp, sources)\n",
    "psf = result.psf\n",
    "cellSet = result.cellSet"
   ]
  },
  {
   "cell_type": "code",
   "execution_count": 52,
   "metadata": {
    "collapsed": false
   },
   "outputs": [
    {
     "data": {
      "text/plain": [
       "<mpl_toolkits.axes_grid1.axes_grid.ImageGrid at 0x11f135910>"
      ]
     },
     "execution_count": 52,
     "metadata": {},
     "output_type": "execute_result"
    },
    {
     "data": {
      "image/png": "[encoded data removed]",
      "text/plain": [
       "<matplotlib.figure.Figure at 0x11df4d250>"
      ]
     },
     "metadata": {},
     "output_type": "display_data"
    }
   ],
   "source": [
    "dit.plotImageGrid((testObj.im1.psf, testObj.im2.psf))"
   ]
  },
  {
   "cell_type": "code",
   "execution_count": 53,
   "metadata": {
    "collapsed": false
   },
   "outputs": [
    {
     "data": {
      "text/plain": [
       "<mpl_toolkits.axes_grid1.axes_grid.ImageGrid at 0x11f1fc150>"
      ]
     },
     "execution_count": 53,
     "metadata": {},
     "output_type": "execute_result"
    },
    {
     "data": {
      "image/png": "[encoded data removed]",
      "text/plain": [
       "<matplotlib.figure.Figure at 0x11f3ce850>"
      ]
     },
     "metadata": {},
     "output_type": "display_data"
    }
   ],
   "source": [
    "dit.plotImageGrid((psf.computeImage(),)) #, clim=(-0.001,0.001))"
   ]
  },
  {
   "cell_type": "code",
   "execution_count": 61,
   "metadata": {
    "collapsed": true
   },
   "outputs": [],
   "source": [
    "def measurePsf(exp):\n",
    "    import lsst.pipe.tasks.measurePsf as measurePsf\n",
    "    import lsst.afw.table as afwTable\n",
    "    import lsst.ip.diffim as ipDiffim  # for detection - needs NaiveDipoleCentroid (registered by my routine)\n",
    "    import lsst.meas.algorithms        as measAlg\n",
    "\n",
    "    # The old (meas_algorithms) SdssCentroid assumed this by default if it\n",
    "    # wasn't specified; meas_base requires us to be explicit.\n",
    "    psf = measAlg.DoubleGaussianPsf(11, 11, 0.01)\n",
    "    exp.setPsf(psf)\n",
    "\n",
    "    im = exp.getMaskedImage().getImage()\n",
    "    im -= np.median(im.getArray())\n",
    "\n",
    "    sources = dit.doDetection(exp, asDF=False)\n",
    "    config = measurePsf.MeasurePsfConfig()\n",
    "    schema = afwTable.SourceTable.makeMinimalSchema()\n",
    "\n",
    "    psfDeterminer = config.psfDeterminer.apply()\n",
    "    psfDeterminer.config.sizeCellX = 128\n",
    "    psfDeterminer.config.sizeCellY = 128\n",
    "    psfDeterminer.config.spatialOrder = 1\n",
    "    psfDeterminer.config.nEigenComponents = 3\n",
    "    task = measurePsf.MeasurePsfTask(schema=schema, config=config)\n",
    "\n",
    "    result = task.run(exp, sources)\n",
    "    return result"
   ]
  },
  {
   "cell_type": "code",
   "execution_count": 62,
   "metadata": {
    "collapsed": false
   },
   "outputs": [
    {
     "data": {
      "text/plain": [
       "<mpl_toolkits.axes_grid1.axes_grid.ImageGrid at 0x11dd1df50>"
      ]
     },
     "execution_count": 62,
     "metadata": {},
     "output_type": "execute_result"
    },
    {
     "data": {
      "image/png": "[encoded data removed]",
      "text/plain": [
       "<matplotlib.figure.Figure at 0x11c155710>"
      ]
     },
     "metadata": {},
     "output_type": "display_data"
    }
   ],
   "source": [
    "res = measurePsf(testObj.im2.asAfwExposure())\n",
    "dit.plotImageGrid((res.psf.computeImage(),)) #, clim=(-0.001,0.001))"
   ]
  },
  {
   "cell_type": "code",
   "execution_count": 92,
   "metadata": {
    "collapsed": false
   },
   "outputs": [
    {
     "name": "stdout",
     "output_type": "stream",
     "text": [
      "No module named utils\n",
      "LSSTSW has not been set up.\n",
      "<class 'lsst.meas.extensions.psfex.psfexPsfDeterminer.PsfexPsfDeterminerTask'>\n",
      "(25, 25) (41, 41)\n",
      "1.00000013607\n"
     ]
    },
    {
     "data": {
      "text/plain": [
       "<mpl_toolkits.axes_grid1.axes_grid.ImageGrid at 0x11bc1f810>"
      ]
     },
     "execution_count": 92,
     "metadata": {},
     "output_type": "execute_result"
    },
    {
     "data": {
      "image/png": "[encoded data removed]",
      "text/plain": [
       "<matplotlib.figure.Figure at 0x1200f5a90>"
      ]
     },
     "metadata": {},
     "output_type": "display_data"
    }
   ],
   "source": [
    "reload(dit)\n",
    "res = dit.measurePsf(testObj.im2.asAfwExposure(), measurePsfAlg='psfex')\n",
    "psf = res.psf.computeImage()\n",
    "print testObj.im2.psf.shape, psf.getDimensions()\n",
    "print psf.getArray().sum()\n",
    "dit.plotImageGrid((res.psf.computeImage(),)) #, clim=(-0.001,0.001))"
   ]
  },
  {
   "cell_type": "code",
   "execution_count": 90,
   "metadata": {
    "collapsed": false
   },
   "outputs": [
    {
     "name": "stdout",
     "output_type": "stream",
     "text": [
      "(25, 25) (41, 41)\n",
      "1.00000013607\n"
     ]
    }
   ],
   "source": [
    "reload(dit)\n",
    "res = dit.measurePsf(testObj.im2.asAfwExposure(), measurePsfAlg='psfex')\n",
    "psf = res.psf.computeImage()\n",
    "print testObj.im2.psf.shape, psf.getDimensions()\n",
    "print psf.getArray().sum()\n",
    "dit.plotImageGrid((res.psf.computeImage(),)) #, clim=(-0.001,0.001))"
   ]
  },
  {
   "cell_type": "code",
   "execution_count": null,
   "metadata": {
    "collapsed": true
   },
   "outputs": [],
   "source": []
  }
 ],
 "metadata": {
  "anaconda-cloud": {},
  "kernelspec": {
   "display_name": "Python 2",
   "language": "python",
   "name": "python2"
  },
  "language_info": {
   "codemirror_mode": {
    "name": "ipython",
    "version": 2
   },
   "file_extension": ".py",
   "mimetype": "text/x-python",
   "name": "python",
   "nbconvert_exporter": "python",
   "pygments_lexer": "ipython2",
   "version": "2.7.12"
  }
 },
 "nbformat": 4,
 "nbformat_minor": 0
}
