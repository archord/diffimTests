{
 "cells": [
  {
   "cell_type": "markdown",
   "metadata": {
    "collapsed": true
   },
   "source": [
    "## Need to get accurate detection working."
   ]
  },
  {
   "cell_type": "code",
   "execution_count": 84,
   "metadata": {
    "collapsed": false
   },
   "outputs": [],
   "source": [
    "import numpy as np\n",
    "%matplotlib inline\n",
    "import matplotlib.pyplot as plt\n",
    "import matplotlib\n",
    "matplotlib.style.use('ggplot')\n",
    "import pandas as pd\n",
    "import multiprocessing\n",
    "from joblib import Parallel, delayed\n",
    "num_cores = multiprocessing.cpu_count()\n",
    "\n",
    "class sizeme():\n",
    "    \"\"\" Class to change html fontsize of object's representation\"\"\"\n",
    "    def __init__(self,ob, size=50, height=120):\n",
    "        self.ob = ob\n",
    "        self.size = size\n",
    "        self.height = height\n",
    "    def _repr_html_(self):\n",
    "        repl_tuple = (self.size, self.height, self.ob._repr_html_())\n",
    "        return u'<span style=\"font-size:{0}%; line-height:{1}%\">{2}</span>'.format(*repl_tuple)\n",
    "\n",
    "pd.options.display.max_columns = 9999\n",
    "pd.set_option('display.width', 9999)"
   ]
  },
  {
   "cell_type": "markdown",
   "metadata": {},
   "source": [
    "Use the code from `diffimTests.py`."
   ]
  },
  {
   "cell_type": "code",
   "execution_count": 60,
   "metadata": {
    "collapsed": false
   },
   "outputs": [
    {
     "name": "stdout",
     "output_type": "stream",
     "text": [
      "Template PSF: [1.6, 1.6] 0.0\n",
      "Science PSF: [1.8, 2.2] -45.0\n",
      "0.824621125124\n",
      "Offset: [0, 0]\n",
      "PSF y spatial-variation: 0.0 0.0\n",
      "Variable source: 37 245.899250131 279.361590046 1423.89964966 2923.89964966\n",
      "Variable source: 2 287.153594381 287.464482497 11199.2212522 12799.2212522\n",
      "Variable source: 18 262.668862066 301.46927489 20097.6617321 21897.6617321\n",
      "Variable source: 15 305.718449906 258.588102301 27152.9264726 29152.9264726\n",
      "Variable source: 23 286.863456899 311.26461378 26439.9102459 28639.9102459\n",
      "Variable source: 7 193.358717505 245.822023119 16949.7483921 19349.7483921\n",
      "Variable source: 45 293.525936039 203.144579256 4226.31645367 6826.31645367\n",
      "Variable source: 33 220.821923649 196.83656518 14224.0855888 17024.0855888\n",
      "(0.058941207521673616, 17.142582277831181, -74.0, 1741.5550996425638)\n",
      "(0.16640941424314851, 17.212254472642801, -82.0, 1169.0572762553779)\n",
      "(300.05894120752163, 17.142582277831185, 226.0, 2041.5550996425638)\n",
      "(300.16640941424311, 17.212254472642801, 218.0, 1469.0572762553779)\n"
     ]
    }
   ],
   "source": [
    "import diffimTests as dit\n",
    "reload(dit)\n",
    "\n",
    "# Let's try w same parameters as ZOGY paper.\n",
    "sky = 300.\n",
    "\n",
    "testObj = dit.DiffimTest(imSize=(512,512), sky=sky, offset=[0,0], psf_yvary_factor=0., \n",
    "                         varSourceChange=[1500., 1600., 1800., 2000., 2200., 2400., 2600., 2800.],\n",
    "                         theta1=0., theta2=-45., im2background=0., n_sources=50, sourceFluxRange=(500,30000), \n",
    "                         seed=66, psfSize=13)\n",
    "\n",
    "print dit.computeClippedImageStats(testObj.im1.im)\n",
    "print dit.computeClippedImageStats(testObj.im2.im)\n",
    "print dit.computeClippedImageStats(testObj.im1.var)\n",
    "print dit.computeClippedImageStats(testObj.im2.var)"
   ]
  },
  {
   "cell_type": "code",
   "execution_count": 61,
   "metadata": {
    "collapsed": false
   },
   "outputs": [],
   "source": [
    "src = testObj.runTest(returnSources=True)"
   ]
  },
  {
   "cell_type": "code",
   "execution_count": 62,
   "metadata": {
    "collapsed": false
   },
   "outputs": [
    {
     "name": "stdout",
     "output_type": "stream",
     "text": [
      "[[   245.89925013    279.36159005   1423.89964966   2923.89964966]\n",
      " [   287.15359438    287.4644825   11199.22125222  12799.22125222]\n",
      " [   262.66886207    301.46927489  20097.66173206  21897.66173206]\n",
      " [   305.71844991    258.5881023   27152.92647256  29152.92647256]\n",
      " [   286.8634569     311.26461378  26439.91024586  28639.91024586]\n",
      " [   193.35871751    245.82202312  16949.74839209  19349.74839209]\n",
      " [   293.52593604    203.14457926   4226.31645367   6826.31645367]\n",
      " [   220.82192365    196.83656518  14224.08558878  17024.08558878]]\n",
      "   base_NaiveCentroid_x  base_NaiveCentroid_y  base_PsfFlux_fluxSigma base_PsfFlux_flag\n",
      "2            220.281251            196.981653               55.819528             False\n",
      "3            293.161952            203.164991               44.627419             False\n",
      "4            193.111072            246.116698               57.651681             False\n",
      "5            305.606008            258.429174               66.764066             False\n",
      "6            245.311693            278.280909               39.334288             False\n",
      "7            286.328456            288.138301               51.183344             False\n",
      "8            262.280770            301.148094               60.414532             False\n",
      "   base_NaiveCentroid_x  base_NaiveCentroid_y  base_PsfFlux_fluxSigma base_PsfFlux_flag\n",
      "0            220.232685            196.990599              261.356557             False\n",
      "1            293.150201            203.155289              201.143778             False\n",
      "2            193.097210            246.084996              272.772841             False\n",
      "3            305.314649            258.169906              319.136601             False\n",
      "4            245.297758            278.272726              176.467025             False\n",
      "5            286.252530            288.118451              239.589436             False\n",
      "6            262.190126            301.074922              286.155121             False\n",
      "7            287.023751            311.124623              317.178540             False\n",
      "   base_NaiveCentroid_x  base_NaiveCentroid_y  base_PeakLikelihoodFlux_fluxSigma base_PsfFlux_flag\n",
      "0            220.096146            196.107103                           4.322191             False\n",
      "1            293.075764            203.038928                           3.770682             False\n",
      "2            193.038205            245.053374                           4.418286             False\n",
      "3            305.089990            258.096561                           4.778439             False\n",
      "4            246.006185            279.009534                           3.540964             False\n",
      "5            287.019769            287.061401                           4.144079             False\n",
      "6            262.086796            301.061710                           4.516744             False\n",
      "7            286.081655            311.051810                           4.766582             False\n",
      "8            465.094983            318.050579                           3.389390             False\n"
     ]
    }
   ],
   "source": [
    "changedCentroid = np.array(testObj.centroids[testObj.changedCentroidInd, :])\n",
    "print changedCentroid\n",
    "\n",
    "print src['AL'][['base_NaiveCentroid_x', 'base_NaiveCentroid_y', 'base_PsfFlux_fluxSigma', 'base_PsfFlux_flag']]\n",
    "print src['ZOGY'][['base_NaiveCentroid_x', 'base_NaiveCentroid_y', 'base_PsfFlux_fluxSigma', 'base_PsfFlux_flag']]\n",
    "# For SZOGY, the correct flux measurement is PeakLikelihoodFlux\n",
    "print src['SZOGY'][['base_NaiveCentroid_x', 'base_NaiveCentroid_y', 'base_PeakLikelihoodFlux_fluxSigma', 'base_PsfFlux_flag']]"
   ]
  },
  {
   "cell_type": "code",
   "execution_count": 63,
   "metadata": {
    "collapsed": false
   },
   "outputs": [
    {
     "name": "stdout",
     "output_type": "stream",
     "text": [
      "[[  86.27129218  112.51245572  112.75802692  105.33218657  132.26407373\n",
      "    55.76920765   73.50350712    0.55980141]\n",
      " [  89.66428865   84.51333985  102.92502483   56.82769488  108.28296019\n",
      "   108.53712704    0.36455619   72.6163111 ]\n",
      " [  62.38441002  102.7308879    88.89428524  113.29588484  114.16549669\n",
      "     0.38491776  109.22338553   56.53691539]\n",
      " [  63.26976387   34.40262698   60.79513832    0.19468306   56.06127876\n",
      "   112.9530633    56.58899634  104.79499222]\n",
      " [   1.23007945   42.83786577   28.96500722   63.53568224   53.05161529\n",
      "    61.25921085   89.27531157   85.04663371]\n",
      " [  41.37089973    1.06530979   27.15679004   35.34382713   23.13250012\n",
      "   102.1471471    85.29792777  112.37042659]\n",
      " [  27.25813503   28.38835371    0.50375892   60.81270374   26.58293607\n",
      "    88.3811256   102.8637413   112.24852294]]\n",
      "(array([0, 1, 2, 3, 4, 5, 6]), array([7, 6, 5, 3, 0, 1, 2]))\n",
      "7 1 0\n"
     ]
    }
   ],
   "source": [
    "dist = np.sqrt(np.add.outer(src['AL'].base_NaiveCentroid_x, -changedCentroid[:, 0])**2. + \\\n",
    "               np.add.outer(src['AL'].base_NaiveCentroid_y, -changedCentroid[:, 1])**2.) # in pixels\n",
    "print dist\n",
    "matches = np.where(dist <= 1.5)\n",
    "print matches\n",
    "true_pos = len(matches[0])\n",
    "false_neg = changedCentroid.shape[0] - len(matches[0])\n",
    "false_pos = src['AL'].shape[0] - len(matches[0])\n",
    "print true_pos, false_neg, false_pos"
   ]
  },
  {
   "cell_type": "code",
   "execution_count": 64,
   "metadata": {
    "collapsed": false
   },
   "outputs": [
    {
     "name": "stdout",
     "output_type": "stream",
     "text": [
      "[[  87.1614004   113.32639617  113.6381244   105.99553816  133.11320735\n",
      "    56.44876739   73.76625309    1.0290128 ]\n",
      " [  89.72609575   84.63301002  103.01996376   56.9697138   108.40383698\n",
      "   108.50752351    0.46240337   72.51956138]\n",
      " [  63.01859887  103.22988262   89.61686402  113.49020423  114.83512621\n",
      "     0.83279673  108.87667845   55.64886005]\n",
      " [  62.89471505   34.41204922   60.66913923    0.79785649   56.20541253\n",
      "   112.4034766    56.15556602  104.1820237 ]\n",
      " [   0.36793809   42.00708849   27.96577873   63.107761     52.05484481\n",
      "    62.23477061   89.51881442   85.94558632]\n",
      " [  41.8352027     0.42471634   28.29405447   34.06419507   24.20371769\n",
      "   102.33806184   84.16865896  111.90476193]\n",
      " [  27.07271371   28.51716987    0.71057056   60.89112055   26.79518961\n",
      "    88.17580008  102.8405755   112.09670121]\n",
      " [  51.17514688   23.61167225   25.29790168   56.01825006    0.81024711\n",
      "   113.36872644  108.16370805  131.54449663]\n",
      " [ 222.58393332  180.5509547   203.10409714  170.10780572  178.3606638\n",
      "   281.17176691  206.49292185  272.69426994]]\n",
      "8 0 1\n"
     ]
    }
   ],
   "source": [
    "dist = np.sqrt(np.add.outer(src['SZOGY'].base_NaiveCentroid_x, -changedCentroid[:, 0])**2. + \\\n",
    "               np.add.outer(src['SZOGY'].base_NaiveCentroid_y, -changedCentroid[:, 1])**2.) # in pixels\n",
    "print dist\n",
    "matches = np.where(dist <= 1.5)\n",
    "true_pos = len(matches[0])\n",
    "false_neg = changedCentroid.shape[0] - len(matches[0])\n",
    "false_pos = src['SZOGY'].shape[0] - len(matches[0])\n",
    "print true_pos, false_neg, false_pos"
   ]
  },
  {
   "cell_type": "code",
   "execution_count": 68,
   "metadata": {
    "collapsed": false
   },
   "outputs": [
    {
     "name": "stdout",
     "output_type": "stream",
     "text": [
      "{'ZOGY': {'FP': 0, 'FN': 0, 'TP': 8}, 'SZOGY': {'FP': 1, 'FN': 0, 'TP': 8}, 'AL': {'FP': 0, 'FN': 1, 'TP': 7}}\n"
     ]
    }
   ],
   "source": [
    "reload(dit)\n",
    "\n",
    "# Let's try w same parameters as ZOGY paper.\n",
    "sky = 300.\n",
    "\n",
    "testObj = dit.DiffimTest(imSize=(512,512), sky=sky, offset=[0,0], psf_yvary_factor=0., \n",
    "                         varSourceChange=[1500., 1600., 1800., 2000., 2200., 2400., 2600., 2800.],\n",
    "                         theta1=0., theta2=-45., im2background=0., n_sources=50, sourceFluxRange=(500,30000), \n",
    "                         seed=66, psfSize=13)\n",
    "\n",
    "det = testObj.runTest()\n",
    "print det"
   ]
  },
  {
   "cell_type": "markdown",
   "metadata": {},
   "source": [
    "Try some real tests!"
   ]
  },
  {
   "cell_type": "code",
   "execution_count": 93,
   "metadata": {
    "collapsed": false
   },
   "outputs": [],
   "source": [
    "# Default 10 sources with same flux\n",
    "def runTest(flux, seed=66, sky=300., n_sources=50):\n",
    "    sky = 300.\n",
    "    testObj = dit.DiffimTest(imSize=(512,512), sky=sky, offset=[0,0], psf_yvary_factor=0., \n",
    "                             varSourceChange=[flux, flux, flux, flux, flux, flux, flux, flux, flux, flux],\n",
    "                             theta1=0., theta2=-45., im2background=0., n_sources=n_sources, \n",
    "                             sourceFluxRange=(500,30000), seed=seed, psfSize=13)\n",
    "    det = testObj.runTest()\n",
    "    det['flux'] = flux\n",
    "    return det\n",
    "\n",
    "#testResults = [runTest(f, seed) for f in [1500, 1600, 1800, 2000, 2200, 2400, 2600, 2800, 3000] for \\\n",
    "#              seed in [66, 67, 68, 69, 70]]\n",
    "\n",
    "inputs = [(f, seed) for f in np.arange(1500, 3001, 100) for seed in np.arange(66, 86, 1)]\n",
    "print len(results)\n",
    "testResults = Parallel(n_jobs=num_cores)(delayed(runTest)(i[0], i[1]) for i in inputs)"
   ]
  },
  {
   "cell_type": "code",
   "execution_count": 105,
   "metadata": {
    "collapsed": false
   },
   "outputs": [
    {
     "name": "stdout",
     "output_type": "stream",
     "text": [
      "FN: {'ZOGY': 1.0718749999999999, 'SZOGY': 0.83750000000000002, 'AL': 2.3468749999999998}\n",
      "FP: {'ZOGY': 0.34999999999999998, 'SZOGY': 0.19062499999999999, 'AL': 2.2906249999999999}\n",
      "TP: {'ZOGY': 8.9281249999999996, 'SZOGY': 9.1624999999999996, 'AL': 7.6531250000000002}\n"
     ]
    },
    {
     "data": {
      "image/png": "[encoded data removed]",
      "text/plain": [
       "<matplotlib.figure.Figure at 0x115a7d2d0>"
      ]
     },
     "metadata": {},
     "output_type": "display_data"
    }
   ],
   "source": [
    "tr = testResults\n",
    "FN = {key: np.array([t[key]['FN'] for t in tr]).mean() for key in ['AL', 'ZOGY', 'SZOGY']}\n",
    "FP = {key: np.array([t[key]['FP'] for t in tr]).mean() for key in ['AL', 'ZOGY', 'SZOGY']}\n",
    "TP = {key: np.array([t[key]['TP'] for t in tr]).mean() for key in ['AL', 'ZOGY', 'SZOGY']}\n",
    "print 'FN:', FN\n",
    "print 'FP:', FP\n",
    "print 'TP:', TP\n",
    "\n",
    "FN = pd.DataFrame({key: np.array([t[key]['FN'] for t in tr]) for key in ['AL', 'ZOGY', 'SZOGY']})\n",
    "FP = pd.DataFrame({key: np.array([t[key]['FP'] for t in tr]) for key in ['AL', 'ZOGY', 'SZOGY']})\n",
    "TP = pd.DataFrame({key: np.array([t[key]['TP'] for t in tr]) for key in ['AL', 'ZOGY', 'SZOGY']})\n",
    "#sizeme(FN)\n",
    "\n",
    "import seaborn as sns\n",
    "sns.set(style=\"whitegrid\", palette=\"pastel\", color_codes=True)\n",
    "\n",
    "sns.violinplot(data=TP, inner=\"quart\", cut=True, linewidth=0.3, bw=1)\n",
    "sns.despine(left=True)"
   ]
  },
  {
   "cell_type": "code",
   "execution_count": null,
   "metadata": {
    "collapsed": false
   },
   "outputs": [],
   "source": [
    "inputs = [(f, seed) for f in np.repeat(1500, 10) for seed in np.arange(66, 86, 1)]\n",
    "print len(results)\n",
    "testResults2 = Parallel(n_jobs=num_cores)(delayed(runTest)(i[0], i[1]) for i in inputs)"
   ]
  },
  {
   "cell_type": "code",
   "execution_count": 102,
   "metadata": {
    "collapsed": false
   },
   "outputs": [
    {
     "name": "stdout",
     "output_type": "stream",
     "text": [
      "FN: {'ZOGY': 1.3, 'SZOGY': 0.84999999999999998, 'AL': 3.9500000000000002}\n",
      "FP: {'ZOGY': 0.69999999999999996, 'SZOGY': 0.29999999999999999, 'AL': 0.69999999999999996}\n",
      "TP: {'ZOGY': 8.6999999999999993, 'SZOGY': 9.1500000000000004, 'AL': 6.0499999999999998}\n"
     ]
    },
    {
     "data": {
      "image/png": "[encoded data removed]",
      "text/plain": [
       "<matplotlib.figure.Figure at 0x115a174d0>"
      ]
     },
     "metadata": {},
     "output_type": "display_data"
    }
   ],
   "source": [
    "tr = testResults2\n",
    "FN = {key: np.array([t[key]['FN'] for t in tr]).mean() for key in ['AL', 'ZOGY', 'SZOGY']}\n",
    "FP = {key: np.array([t[key]['FP'] for t in tr]).mean() for key in ['AL', 'ZOGY', 'SZOGY']}\n",
    "TP = {key: np.array([t[key]['TP'] for t in tr]).mean() for key in ['AL', 'ZOGY', 'SZOGY']}\n",
    "print 'FN:', FN\n",
    "print 'FP:', FP\n",
    "print 'TP:', TP\n",
    "\n",
    "FN = pd.DataFrame({key: np.array([t[key]['FN'] for t in tr]) for key in ['AL', 'ZOGY', 'SZOGY']})\n",
    "FP = pd.DataFrame({key: np.array([t[key]['FP'] for t in tr]) for key in ['AL', 'ZOGY', 'SZOGY']})\n",
    "TP = pd.DataFrame({key: np.array([t[key]['TP'] for t in tr]) for key in ['AL', 'ZOGY', 'SZOGY']})\n",
    "#sizeme(FN)\n",
    "\n",
    "import seaborn as sns\n",
    "sns.set(style=\"whitegrid\", palette=\"pastel\", color_codes=True)\n",
    "\n",
    "sns.violinplot(data=TP, inner=\"quart\", cut=True, linewidth=0.3, bw=1)\n",
    "sns.despine(left=True)"
   ]
  },
  {
   "cell_type": "code",
   "execution_count": null,
   "metadata": {
    "collapsed": true
   },
   "outputs": [],
   "source": []
  }
 ],
 "metadata": {
  "anaconda-cloud": {},
  "kernelspec": {
   "display_name": "Python 2",
   "language": "python",
   "name": "python2"
  },
  "language_info": {
   "codemirror_mode": {
    "name": "ipython",
    "version": 2
   },
   "file_extension": ".py",
   "mimetype": "text/x-python",
   "name": "python",
   "nbconvert_exporter": "python",
   "pygments_lexer": "ipython2",
   "version": "2.7.12"
  }
 },
 "nbformat": 4,
 "nbformat_minor": 0
}
