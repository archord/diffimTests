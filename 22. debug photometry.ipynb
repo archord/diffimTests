{
 "cells": [
  {
   "cell_type": "markdown",
   "metadata": {},
   "source": [
    "This is copied from notebook \"20. compare photometry.ipynb\"\n",
    "\n",
    "First this is run:\n",
    "```\n",
    "imageDifference.py calexpDir_b1631 --output decamDirTest1 --id visit=289820 ccdnum=11 --templateId visit=288976 --configfile diffimconfig.py --clobber-config --no-versions --config doSubtract=True --config doDecorrelation=True --config detection.thresholdValue=5.0\n",
    "\n",
    "imageDifference.py calexpDir_b1631 --output decamDirTest2 --id visit=289820 ccdnum=11 --templateId visit=288976 --configfile diffimconfig.py --clobber-config --no-versions --config doSubtract=True --config doDecorrelation=False --config detection.thresholdValue=5.5\n",
    "```"
   ]
  },
  {
   "cell_type": "code",
   "execution_count": 2,
   "metadata": {
    "collapsed": true
   },
   "outputs": [],
   "source": [
    "import numpy as np\n",
    "import pandas as pd\n",
    "\n",
    "%matplotlib inline\n",
    "from matplotlib import pyplot as plt\n",
    "import matplotlib\n",
    "matplotlib.style.use('ggplot')\n",
    "\n",
    "class sizeme():\n",
    "    \"\"\" Class to change html fontsize of object's representation\"\"\"\n",
    "    def __init__(self,ob, size=50, height=120):\n",
    "        self.ob = ob\n",
    "        self.size = size\n",
    "        self.height = height\n",
    "    def _repr_html_(self):\n",
    "        repl_tuple = (self.size, self.height, self.ob._repr_html_())\n",
    "        return u'<span style=\"font-size:{0}%; line-height:{1}%\">{2}</span>'.format(*repl_tuple)\n",
    "\n",
    "pd.options.display.max_columns = 999"
   ]
  },
  {
   "cell_type": "code",
   "execution_count": 46,
   "metadata": {
    "collapsed": false
   },
   "outputs": [
    {
     "name": "stdout",
     "output_type": "stream",
     "text": [
      "(50, 183) (143, 183)\n"
     ]
    }
   ],
   "source": [
    "import lsst.daf.persistence as dp\n",
    "if True:\n",
    "    butler = dp.Butler('decamDirTest1')\n",
    "    sources = butler.get('deepDiff_diaSrc',visit=289820,ccdnum=11)\n",
    "    #print sources[0].extract('ip_diffim_Naive*')\n",
    "\n",
    "    # df1 will be the corrected one.\n",
    "    df1 = pd.DataFrame({col: sources.columns[col] for col in sources.schema.getNames()})\n",
    "\n",
    "if True:\n",
    "    butler = dp.Butler('decamDirTest2')\n",
    "    sources = butler.get('deepDiff_diaSrc',visit=289820,ccdnum=11)\n",
    "\n",
    "    # df2 will be the uncorrected one, run with 5.5-sigma threshold\n",
    "    df2 = pd.DataFrame({col: sources.columns[col] for col in sources.schema.getNames()})\n",
    "\n",
    "if True:\n",
    "    print df1.shape, df2.shape\n",
    "\n",
    "# Now let's save them out...\n",
    "if False:\n",
    "    import cPickle\n",
    "    import gzip\n",
    "    cPickle.dump((df1, df2), gzip.GzipFile('twoCatalogs.p.gz', 'wb'))"
   ]
  },
  {
   "cell_type": "raw",
   "metadata": {
    "collapsed": false
   },
   "source": [
    "import cPickle\n",
    "import gzip\n",
    "\n",
    "df1, df2 = cPickle.load(gzip.GzipFile('twoCatalogs.p.gz', 'rb'))\n",
    "print df1.shape, df2.shape, float(df2.shape[0])/float(df1.shape[0]), 395./float(df1.shape[0])\n",
    "#print df1.columns.values\n",
    "\n",
    "sizeme(df1.head())"
   ]
  },
  {
   "cell_type": "markdown",
   "metadata": {},
   "source": [
    "Find matches between the two catalogs in RA and Dec."
   ]
  },
  {
   "cell_type": "code",
   "execution_count": 47,
   "metadata": {
    "collapsed": false
   },
   "outputs": [
    {
     "name": "stdout",
     "output_type": "stream",
     "text": [
      "0.000448513220613 (18, 48) 0.000448513220613\n",
      "-0.104489721008 2.71678863258 \t-0.104489718896 2.71678863206\n",
      "49\n",
      "0.00597487478386 -0.104245303489 2.7156887146 \t-0.104245278038 2.71568870076\n"
     ]
    }
   ],
   "source": [
    "dist = np.sqrt(np.add.outer(df1.coord_dec, -df2.coord_dec)**2. + \\\n",
    "               np.add.outer(df1.coord_ra, -df2.coord_ra)**2.) * 206264.806247  # convert to arcsec ?\n",
    "print dist.min(), np.unravel_index(np.argmin(dist), dist.shape), dist[18,48]\n",
    "print df1.iloc[18].coord_dec, df1.iloc[18].coord_ra, '\\t', df2.iloc[48].coord_dec, df2.iloc[48].coord_ra\n",
    "print np.sum(dist < 4.)\n",
    "matches = np.where(dist < 4.)\n",
    "#print matches\n",
    "print dist[0,0], df1.iloc[0].coord_dec, df1.iloc[0].coord_ra, '\\t', df2.iloc[0].coord_dec, df2.iloc[0].coord_ra\n",
    "\n",
    "# matches1 = df1.iloc[matches[0]]\n",
    "# matches2 = df2.iloc[matches[1]]\n",
    "\n",
    "# fluxes1 = matches1.base_PsfFlux_flux.values #matches1.base_CircularApertureFlux_50_0_flux.values\n",
    "# fluxes2 = matches2.base_PsfFlux_flux.values #matches2.base_CircularApertureFlux_50_0_flux.values\n",
    "\n",
    "# fluxSigs1 = matches1.base_PsfFlux_fluxSigma.values\n",
    "# fluxSigs2 = matches2.base_PsfFlux_fluxSigma.values\n",
    "\n",
    "# isgood = ~np.isnan(fluxes1) & ~np.isnan(fluxes2)\n",
    "# isgood2 = ~np.isnan(fluxes1) & ~np.isnan(fluxes2) & ~np.isnan(fluxSigs1) & ~np.isnan(fluxSigs2)\n",
    "\n",
    "# fluxes1 = fluxes1[isgood]\n",
    "# fluxes2 = fluxes2[isgood]\n",
    "# fluxSigs1 = np.sqrt(fluxSigs1[isgood2])\n",
    "# fluxSigs2 = np.sqrt(fluxSigs2[isgood2])"
   ]
  },
  {
   "cell_type": "code",
   "execution_count": 48,
   "metadata": {
    "collapsed": false
   },
   "outputs": [],
   "source": [
    "# pars, cov = np.polyfit(fluxes2, fluxes1, deg=1, cov=True)\n",
    "# print pars, np.sqrt(np.diag(cov))\n",
    "# #print pearsonr(fluxes2, fluxes1)\n",
    "# print np.nanmedian(fluxes1/fluxes2), np.std(fluxes1/fluxes2)\n",
    "\n",
    "# pars, cov = np.polyfit(fluxSigs2, fluxSigs1, deg=1, cov=True)\n",
    "# print pars, np.sqrt(np.diag(cov))\n",
    "# #print pearsonr(fluxSigs2, fluxSigs1)\n",
    "# print np.nanmedian(fluxSigs1/fluxSigs2)\n",
    "\n",
    "# pars, cov = np.polyfit(fluxes2/fluxSigs2, fluxes1/fluxSigs1, deg=1, cov=True)\n",
    "# print pars, np.sqrt(np.diag(cov))\n",
    "# #print pearsonr(fluxSigs2, fluxSigs1)\n",
    "# print np.nanmedian((fluxes1/fluxSigs1)/(fluxes2/fluxSigs2)), np.std((fluxes1/fluxSigs1)/(fluxes2/fluxSigs2))\n",
    "\n",
    "# plt.figure(1, (12,4))\n",
    "# plt.subplot(131)\n",
    "# plt.plot(fluxes2, fluxes1, 'o')\n",
    "# plt.xlabel('Flux, uncorrected'); plt.ylabel('Flux, corrected')\n",
    "# #plt.ylim(-10000, 10000)\n",
    "# plt.subplot(132)\n",
    "# plt.plot(fluxSigs2, fluxSigs1, 'o')\n",
    "# plt.xlabel('FluxSigma, uncorrected'); plt.ylabel('FluxSigma, corrected')\n",
    "# plt.subplot(133)\n",
    "# plt.plot((fluxes2/fluxSigs2), fluxes1/fluxSigs1, 'o')\n",
    "# plt.xlabel('SNR, uncorrected'); plt.ylabel('SNR, corrected')\n",
    "# #plt.ylim(-100, 100); plt.xlim(0, 5)"
   ]
  },
  {
   "cell_type": "code",
   "execution_count": 49,
   "metadata": {
    "collapsed": false
   },
   "outputs": [
    {
     "name": "stdout",
     "output_type": "stream",
     "text": [
      "['base_CircularApertureFlux_70_0_flux', 'ip_diffim_PsfDipoleFlux_neg_flux', 'ip_diffim_DipoleFit_pos_flux', 'base_CircularApertureFlux_6_0_flux', 'slot_PsfFlux_flux', 'base_CircularApertureFlux_35_0_flux', 'base_CircularApertureFlux_50_0_flux', 'base_PsfFlux_flux', 'base_CircularApertureFlux_3_0_flux', 'ip_diffim_NaiveDipoleFlux_pos_flux', 'base_PeakLikelihoodFlux_flux', 'slot_Shape_flux', 'base_CircularApertureFlux_9_0_flux', 'base_SdssShape_flux', 'ip_diffim_NaiveDipoleFlux_neg_flux', 'ip_diffim_DipoleFit_neg_flux', 'base_GaussianFlux_flux', 'ip_diffim_PsfDipoleFlux_pos_flux', 'base_CircularApertureFlux_17_0_flux', 'ip_diffim_DipoleFit_flux', 'base_CircularApertureFlux_12_0_flux', 'base_CircularApertureFlux_4_5_flux', 'slot_ApFlux_flux', 'base_CircularApertureFlux_25_0_flux']\n"
     ]
    }
   ],
   "source": [
    "print sources[0].extract('*_flux').keys()"
   ]
  },
  {
   "cell_type": "code",
   "execution_count": 51,
   "metadata": {
    "collapsed": false
   },
   "outputs": [
    {
     "name": "stdout",
     "output_type": "stream",
     "text": [
      "(array([ 1.01284551,  8.17358404]), 1.0198515338920817, array([ 0.83134128,  5.35562608]), 1.1480744849344806, array([ 0.87200798,  1.54546631]), 0.90609086870452737)\n",
      "                               slot\t       flux\t    fluxSig\t        SNR\n",
      "base_CircularApertureFlux_70_0_flux\t0.960 0.961\t1.145 1.159\t0.689 0.829\n",
      "   ip_diffim_PsfDipoleFlux_neg_flux\t3.555 1.295\t1.207 1.480\t3.183 1.116\n",
      "       ip_diffim_DipoleFit_pos_flux\t1.044 1.030\t1.030 1.020\t1.029 0.997\n",
      " base_CircularApertureFlux_6_0_flux\t0.958 0.974\t0.530 1.159\t0.854 0.860\n",
      "base_CircularApertureFlux_35_0_flux\t0.946 0.957\t1.158 1.159\t0.824 0.825\n",
      "base_CircularApertureFlux_50_0_flux\t0.959 0.961\t1.159 1.159\t0.776 0.829\n",
      "                  base_PsfFlux_flux\t1.013 1.020\t0.831 1.148\t0.872 0.906\n",
      " base_CircularApertureFlux_3_0_flux\t1.059 1.044\t1.145 1.159\t0.907 0.905\n",
      " ip_diffim_NaiveDipoleFlux_pos_flux\t0.792 1.075\t0.887 1.018\t0.836 1.056\n",
      "       base_PeakLikelihoodFlux_flux\t1.275 1.201\t1.125 1.191\t1.043 1.009\n",
      " base_CircularApertureFlux_9_0_flux\t0.847 0.950\t0.943 1.159\t0.833 0.832\n",
      "                base_SdssShape_flux\t1.012 1.056\t1.014 1.127\t0.899 0.920\n",
      " ip_diffim_NaiveDipoleFlux_neg_flux\n",
      "       ip_diffim_DipoleFit_neg_flux\t1.044 1.030\t1.030 1.020\t1.029 0.997\n",
      "             base_GaussianFlux_flux\t0.033 0.993\t0.556 1.129\t0.023 0.893\n",
      "   ip_diffim_PsfDipoleFlux_pos_flux\t3.561 1.256\t1.208 1.516\t3.195 0.866\n",
      "base_CircularApertureFlux_17_0_flux\t0.562 0.941\t0.566 1.159\t0.824 0.823\n",
      "           ip_diffim_DipoleFit_flux\n",
      "base_CircularApertureFlux_12_0_flux\t0.697 0.964\t0.817 1.159\t0.816 0.833\n",
      " base_CircularApertureFlux_4_5_flux\t0.999 1.009\t0.435 1.159\t0.878 0.885\n",
      "base_CircularApertureFlux_25_0_flux\t0.826 0.945\t1.086 1.159\t0.822 0.815\n"
     ]
    },
    {
     "data": {
      "image/png": "[encoded data removed]",
      "text/plain": [
       "<matplotlib.figure.Figure at 0x11a73bf50>"
      ]
     },
     "metadata": {},
     "output_type": "display_data"
    }
   ],
   "source": [
    "def computeRatios(key, matches1, matches2, plot=False):\n",
    "    fluxes1 = matches1[key].values #matches1.base_CircularApertureFlux_50_0_flux.values\n",
    "    fluxes2 = matches2[key].values #matches2.base_CircularApertureFlux_50_0_flux.values\n",
    "\n",
    "    fluxSigs1 = matches1[key+'Sigma'].values\n",
    "    fluxSigs2 = matches2[key+'Sigma'].values\n",
    "\n",
    "    isgood = ~np.isnan(fluxes1) & ~np.isnan(fluxes2)\n",
    "    isgood2 = ~np.isnan(fluxes1) & ~np.isnan(fluxes2) & ~np.isnan(fluxSigs1) & ~np.isnan(fluxSigs2)\n",
    "\n",
    "    fluxes1 = fluxes1[isgood]\n",
    "    fluxes2 = fluxes2[isgood]\n",
    "    fluxSigs1 = np.sqrt(fluxSigs1[isgood2])\n",
    "    fluxSigs2 = np.sqrt(fluxSigs2[isgood2])\n",
    "    \n",
    "    pars1, cov = np.polyfit(fluxes2, fluxes1, deg=1, cov=True)\n",
    "    #print pars1, np.sqrt(np.diag(cov))\n",
    "    #print pearsonr(fluxes2, fluxes1)\n",
    "    med1, std1 = np.nanmedian(fluxes1/fluxes2), np.std(fluxes1/fluxes2)\n",
    "\n",
    "    pars2, cov = np.polyfit(fluxSigs2, fluxSigs1, deg=1, cov=True)\n",
    "    #print pars2, np.sqrt(np.diag(cov))\n",
    "    #print pearsonr(fluxSigs2, fluxSigs1)\n",
    "    med2 = np.nanmedian(fluxSigs1/fluxSigs2)\n",
    "\n",
    "    pars3, cov = np.polyfit(fluxes2/fluxSigs2, fluxes1/fluxSigs1, deg=1, cov=True)\n",
    "    #print pars3, np.sqrt(np.diag(cov))\n",
    "    #print pearsonr(fluxSigs2, fluxSigs1)\n",
    "    med3, std3 = np.nanmedian((fluxes1/fluxSigs1)/(fluxes2/fluxSigs2)), np.std((fluxes1/fluxSigs1)/(fluxes2/fluxSigs2))\n",
    "\n",
    "    if plot:\n",
    "        plt.figure(1, (12,4))\n",
    "        plt.subplot(131)\n",
    "        plt.plot(fluxes2, fluxes1, 'o')\n",
    "        plt.xlabel('Flux, uncorrected'); plt.ylabel('Flux, corrected')\n",
    "        #plt.ylim(-10000, 10000)\n",
    "        plt.subplot(132)\n",
    "        plt.plot(fluxSigs2, fluxSigs1, 'o')\n",
    "        plt.xlabel('FluxSigma, uncorrected'); plt.ylabel('FluxSigma, corrected')\n",
    "        plt.subplot(133)\n",
    "        plt.plot((fluxes2/fluxSigs2), fluxes1/fluxSigs1, 'o')\n",
    "        plt.xlabel('SNR, uncorrected'); plt.ylabel('SNR, corrected')\n",
    "        #plt.ylim(-100, 100); plt.xlim(0, 5)\n",
    "        \n",
    "    return pars1, med1, pars2, med2, pars3, med3\n",
    "\n",
    "print computeRatios('base_PsfFlux_flux', matches1, matches2, plot=True)\n",
    "\n",
    "print \"%35s\\t%11s\\t%11s\\t%11s\" % ('slot', 'flux', 'fluxSig', 'SNR')\n",
    "\n",
    "for key in sources[0].extract('*_flux').keys():\n",
    "    if key.startswith('slot_'):\n",
    "        continue\n",
    "    try:\n",
    "        vals = computeRatios(key, matches1, matches2, plot=False)\n",
    "        print \"%35s\\t%.3f %.3f\\t%.3f %.3f\\t%.3f %.3f\" % (key, vals[0][0], vals[1], vals[2][0], vals[3], vals[4][0], vals[5])\n",
    "    except:\n",
    "        print \"%35s\" % (key)"
   ]
  },
  {
   "cell_type": "code",
   "execution_count": 39,
   "metadata": {
    "collapsed": false
   },
   "outputs": [
    {
     "name": "stdout",
     "output_type": "stream",
     "text": [
      "0.2\n",
      "0.0839160839161\n",
      "0.204081632653\n",
      "0.244897959184\n",
      "\n",
      "0.14\n",
      "0.0559440559441\n",
      "0.142857142857\n",
      "0.163265306122\n"
     ]
    }
   ],
   "source": [
    "print np.mean(df1.ip_diffim_DipoleFit_flag_classification.values)\n",
    "print np.mean(df2.ip_diffim_DipoleFit_flag_classification.values)\n",
    "print np.mean(matches1.ip_diffim_DipoleFit_flag_classification.values)\n",
    "print np.mean(matches2.ip_diffim_DipoleFit_flag_classification.values)\n",
    "print;\n",
    "print np.mean(df1.ip_diffim_ClassificationDipole_value)\n",
    "print np.mean(df2.ip_diffim_ClassificationDipole_value)\n",
    "print np.mean(matches1.ip_diffim_ClassificationDipole_value)\n",
    "print np.mean(matches2.ip_diffim_ClassificationDipole_value)"
   ]
  },
  {
   "cell_type": "markdown",
   "metadata": {},
   "source": [
    "Let's try to make the plot in Colin's DMTN-006 -- first run his script\n",
    "\n",
    "```\n",
    "python forcePhotDiaSources.py decamDirTest1 --output decamDirTest1 --id visit=289820 ccdnum=11 --templateId visit=288976 --no-versions\n",
    "```\n",
    "\n",
    "then..."
   ]
  },
  {
   "cell_type": "code",
   "execution_count": 40,
   "metadata": {
    "collapsed": false
   },
   "outputs": [
    {
     "name": "stdout",
     "output_type": "stream",
     "text": [
      "(50, 17)\n"
     ]
    },
    {
     "data": {
      "text/html": [
       "<span style=\"font-size:50%; line-height:120%\"><div>\n",
       "<table border=\"1\" class=\"dataframe\">\n",
       "  <thead>\n",
       "    <tr style=\"text-align: right;\">\n",
       "      <th></th>\n",
       "      <th>base_PsfFlux_flag</th>\n",
       "      <th>base_PsfFlux_flag_edge</th>\n",
       "      <th>base_PsfFlux_flag_noGoodPixels</th>\n",
       "      <th>base_PsfFlux_flux</th>\n",
       "      <th>base_PsfFlux_fluxSigma</th>\n",
       "      <th>base_TransformedCentroid_flag</th>\n",
       "      <th>base_TransformedCentroid_x</th>\n",
       "      <th>base_TransformedCentroid_y</th>\n",
       "      <th>classification_dipole</th>\n",
       "      <th>coord_dec</th>\n",
       "      <th>coord_ra</th>\n",
       "      <th>diffim_base_PsfFlux_flux</th>\n",
       "      <th>diffim_base_PsfFlux_fluxSigma</th>\n",
       "      <th>objectId</th>\n",
       "      <th>parentObjectId</th>\n",
       "      <th>template_base_PsfFlux_flux</th>\n",
       "      <th>template_base_PsfFlux_fluxSigma</th>\n",
       "    </tr>\n",
       "  </thead>\n",
       "  <tbody>\n",
       "    <tr>\n",
       "      <th>0</th>\n",
       "      <td>False</td>\n",
       "      <td>False</td>\n",
       "      <td>False</td>\n",
       "      <td>11402.671047</td>\n",
       "      <td>89.060454</td>\n",
       "      <td>False</td>\n",
       "      <td>1397.283325</td>\n",
       "      <td>36.974789</td>\n",
       "      <td>0</td>\n",
       "      <td>-0.104245</td>\n",
       "      <td>2.715689</td>\n",
       "      <td>NaN</td>\n",
       "      <td>NaN</td>\n",
       "      <td>124476789417312318</td>\n",
       "      <td>0</td>\n",
       "      <td>12966.984661</td>\n",
       "      <td>82.876483</td>\n",
       "    </tr>\n",
       "    <tr>\n",
       "      <th>1</th>\n",
       "      <td>False</td>\n",
       "      <td>False</td>\n",
       "      <td>False</td>\n",
       "      <td>17276.202225</td>\n",
       "      <td>148.566598</td>\n",
       "      <td>False</td>\n",
       "      <td>762.302063</td>\n",
       "      <td>81.918633</td>\n",
       "      <td>0</td>\n",
       "      <td>-0.103438</td>\n",
       "      <td>2.715746</td>\n",
       "      <td>-968.636060</td>\n",
       "      <td>179.460633</td>\n",
       "      <td>124476789417312319</td>\n",
       "      <td>0</td>\n",
       "      <td>19549.001016</td>\n",
       "      <td>93.088274</td>\n",
       "    </tr>\n",
       "    <tr>\n",
       "      <th>2</th>\n",
       "      <td>False</td>\n",
       "      <td>False</td>\n",
       "      <td>False</td>\n",
       "      <td>7450.233416</td>\n",
       "      <td>79.866487</td>\n",
       "      <td>False</td>\n",
       "      <td>461.621613</td>\n",
       "      <td>167.564728</td>\n",
       "      <td>0</td>\n",
       "      <td>-0.103056</td>\n",
       "      <td>2.715855</td>\n",
       "      <td>540.772368</td>\n",
       "      <td>115.619059</td>\n",
       "      <td>124476789417312320</td>\n",
       "      <td>0</td>\n",
       "      <td>6738.646987</td>\n",
       "      <td>67.922069</td>\n",
       "    </tr>\n",
       "    <tr>\n",
       "      <th>3</th>\n",
       "      <td>False</td>\n",
       "      <td>False</td>\n",
       "      <td>False</td>\n",
       "      <td>41713.357043</td>\n",
       "      <td>125.714742</td>\n",
       "      <td>False</td>\n",
       "      <td>612.939148</td>\n",
       "      <td>208.854706</td>\n",
       "      <td>0</td>\n",
       "      <td>-0.103248</td>\n",
       "      <td>2.715908</td>\n",
       "      <td>935.644564</td>\n",
       "      <td>189.519786</td>\n",
       "      <td>124476789417312321</td>\n",
       "      <td>0</td>\n",
       "      <td>39815.460800</td>\n",
       "      <td>122.876648</td>\n",
       "    </tr>\n",
       "    <tr>\n",
       "      <th>4</th>\n",
       "      <td>False</td>\n",
       "      <td>False</td>\n",
       "      <td>False</td>\n",
       "      <td>18078.089417</td>\n",
       "      <td>101.525175</td>\n",
       "      <td>False</td>\n",
       "      <td>780.099426</td>\n",
       "      <td>412.828247</td>\n",
       "      <td>0</td>\n",
       "      <td>-0.103460</td>\n",
       "      <td>2.716169</td>\n",
       "      <td>1237.202307</td>\n",
       "      <td>153.359418</td>\n",
       "      <td>124476789417312322</td>\n",
       "      <td>0</td>\n",
       "      <td>18540.504999</td>\n",
       "      <td>155.166339</td>\n",
       "    </tr>\n",
       "  </tbody>\n",
       "</table>\n",
       "</div></span>"
      ],
      "text/plain": [
       "<__main__.sizeme instance at 0x10cf01440>"
      ]
     },
     "execution_count": 40,
     "metadata": {},
     "output_type": "execute_result"
    }
   ],
   "source": [
    "import lsst.daf.persistence as dp\n",
    "butler=dp.Butler('decamDirTest1')\n",
    "sources=butler.get('forced_src',visit=289820,ccdnum=11)\n",
    "df = pd.DataFrame({col: sources.columns[col] for col in sources.schema.getNames()})\n",
    "print df.shape\n",
    "sizeme(df.head())"
   ]
  },
  {
   "cell_type": "code",
   "execution_count": 41,
   "metadata": {
    "collapsed": false
   },
   "outputs": [
    {
     "name": "stdout",
     "output_type": "stream",
     "text": [
      "['base_PsfFlux_flag' 'base_PsfFlux_flag_edge'\n",
      " 'base_PsfFlux_flag_noGoodPixels' 'base_PsfFlux_flux'\n",
      " 'base_PsfFlux_fluxSigma' 'base_TransformedCentroid_flag'\n",
      " 'base_TransformedCentroid_x' 'base_TransformedCentroid_y'\n",
      " 'classification_dipole' 'coord_dec' 'coord_ra' 'diffim_base_PsfFlux_flux'\n",
      " 'diffim_base_PsfFlux_fluxSigma' 'objectId' 'parentObjectId'\n",
      " 'template_base_PsfFlux_flux' 'template_base_PsfFlux_fluxSigma' 's_to_n'\n",
      " 'template_s_to_n']\n"
     ]
    },
    {
     "data": {
      "text/html": [
       "<div>\n",
       "<table border=\"1\" class=\"dataframe\">\n",
       "  <thead>\n",
       "    <tr style=\"text-align: right;\">\n",
       "      <th></th>\n",
       "      <th>s_to_n</th>\n",
       "      <th>template_s_to_n</th>\n",
       "    </tr>\n",
       "  </thead>\n",
       "  <tbody>\n",
       "    <tr>\n",
       "      <th>0</th>\n",
       "      <td>128.032932</td>\n",
       "      <td>156.461571</td>\n",
       "    </tr>\n",
       "    <tr>\n",
       "      <th>1</th>\n",
       "      <td>116.285911</td>\n",
       "      <td>210.004978</td>\n",
       "    </tr>\n",
       "    <tr>\n",
       "      <th>2</th>\n",
       "      <td>93.283600</td>\n",
       "      <td>99.211451</td>\n",
       "    </tr>\n",
       "    <tr>\n",
       "      <th>3</th>\n",
       "      <td>331.809590</td>\n",
       "      <td>324.027888</td>\n",
       "    </tr>\n",
       "    <tr>\n",
       "      <th>4</th>\n",
       "      <td>178.065091</td>\n",
       "      <td>119.487933</td>\n",
       "    </tr>\n",
       "  </tbody>\n",
       "</table>\n",
       "</div>"
      ],
      "text/plain": [
       "       s_to_n  template_s_to_n\n",
       "0  128.032932       156.461571\n",
       "1  116.285911       210.004978\n",
       "2   93.283600        99.211451\n",
       "3  331.809590       324.027888\n",
       "4  178.065091       119.487933"
      ]
     },
     "execution_count": 41,
     "metadata": {},
     "output_type": "execute_result"
    }
   ],
   "source": [
    "df[['base_PsfFlux_flux', 'template_base_PsfFlux_flux']].head()\n",
    "df['s_to_n'] = df.base_PsfFlux_flux / df.base_PsfFlux_fluxSigma\n",
    "df['template_s_to_n'] = df.template_base_PsfFlux_flux / df.template_base_PsfFlux_fluxSigma\n",
    "print df.columns.values\n",
    "df[['s_to_n', 'template_s_to_n']].head()"
   ]
  },
  {
   "cell_type": "markdown",
   "metadata": {},
   "source": [
    "Make a plot similar to Colin's [Figure 6 in DMTN-006](http://dmtn-006.lsst.io/en/latest/#forcephot-sci-template-v197367)"
   ]
  },
  {
   "cell_type": "code",
   "execution_count": 42,
   "metadata": {
    "collapsed": false
   },
   "outputs": [
    {
     "data": {
      "text/plain": [
       "[<matplotlib.lines.Line2D at 0x118db19d0>]"
      ]
     },
     "execution_count": 42,
     "metadata": {},
     "output_type": "execute_result"
    },
    {
     "data": {
      "image/png": "[encoded data removed]",
      "text/plain": [
       "<matplotlib.figure.Figure at 0x116ebf3d0>"
      ]
     },
     "metadata": {},
     "output_type": "display_data"
    }
   ],
   "source": [
    "df.plot.scatter('s_to_n', 'template_s_to_n')\n",
    "plt.xlim(-10, 25)\n",
    "plt.ylim(-10, 25)\n",
    "x = np.linspace(-25,25)\n",
    "plt.plot(x, x-5*np.sqrt(2), 'k-')\n",
    "plt.plot(x, x+5*np.sqrt(2), 'k-')"
   ]
  },
  {
   "cell_type": "code",
   "execution_count": null,
   "metadata": {
    "collapsed": true
   },
   "outputs": [],
   "source": []
  }
 ],
 "metadata": {
  "kernelspec": {
   "display_name": "Python 2",
   "language": "python",
   "name": "python2"
  },
  "language_info": {
   "codemirror_mode": {
    "name": "ipython",
    "version": 2
   },
   "file_extension": ".py",
   "mimetype": "text/x-python",
   "name": "python",
   "nbconvert_exporter": "python",
   "pygments_lexer": "ipython2",
   "version": "2.7.12"
  }
 },
 "nbformat": 4,
 "nbformat_minor": 0
}
